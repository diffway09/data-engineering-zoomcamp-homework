{
 "cells": [
  {
   "cell_type": "code",
   "execution_count": 54,
   "id": "00dec3bd",
   "metadata": {},
   "outputs": [
    {
     "name": "stdout",
     "output_type": "stream",
     "text": [
      "8.382332347441762\n"
     ]
    }
   ],
   "source": [
    "# Question 1 = 8.382\n",
    "def square_root_generator(limit):\n",
    "    n = 1\n",
    "    while n <= limit:\n",
    "        yield n ** 0.5\n",
    "        n += 1\n",
    "\n",
    "limit = 5\n",
    "generator = square_root_generator(limit)\n",
    "\n",
    "print(sum(generator))"
   ]
  },
  {
   "cell_type": "code",
   "execution_count": 55,
   "id": "a45e9966",
   "metadata": {},
   "outputs": [
    {
     "name": "stdout",
     "output_type": "stream",
     "text": [
      "3.605551275463989\n"
     ]
    }
   ],
   "source": [
    "#Question 2 = 3.605\n",
    "def square_root_generator(limit):\n",
    "    n = 1\n",
    "    while n <= limit:\n",
    "        yield n ** 0.5\n",
    "        n += 1\n",
    "\n",
    "limit = 13\n",
    "generator = square_root_generator(limit)\n",
    "\n",
    "## Max value is the last value in the object.\n",
    "print(max(generator))\n"
   ]
  },
  {
   "cell_type": "code",
   "execution_count": 84,
   "id": "39a794a2",
   "metadata": {},
   "outputs": [
    {
     "name": "stdout",
     "output_type": "stream",
     "text": [
      "{'ID': 1, 'Name': 'Person_1', 'Age': 26, 'City': 'City_A'}\n",
      "{'ID': 2, 'Name': 'Person_2', 'Age': 27, 'City': 'City_A'}\n",
      "{'ID': 3, 'Name': 'Person_3', 'Age': 28, 'City': 'City_A'}\n",
      "{'ID': 4, 'Name': 'Person_4', 'Age': 29, 'City': 'City_A'}\n",
      "{'ID': 5, 'Name': 'Person_5', 'Age': 30, 'City': 'City_A'}\n",
      "{'ID': 3, 'Name': 'Person_3', 'Age': 33, 'City': 'City_B', 'Occupation': 'Job_3'}\n",
      "{'ID': 4, 'Name': 'Person_4', 'Age': 34, 'City': 'City_B', 'Occupation': 'Job_4'}\n",
      "{'ID': 5, 'Name': 'Person_5', 'Age': 35, 'City': 'City_B', 'Occupation': 'Job_5'}\n",
      "{'ID': 6, 'Name': 'Person_6', 'Age': 36, 'City': 'City_B', 'Occupation': 'Job_6'}\n",
      "{'ID': 7, 'Name': 'Person_7', 'Age': 37, 'City': 'City_B', 'Occupation': 'Job_7'}\n",
      "{'ID': 8, 'Name': 'Person_8', 'Age': 38, 'City': 'City_B', 'Occupation': 'Job_8'}\n",
      "353\n"
     ]
    }
   ],
   "source": [
    "#Question 3 = 353\n",
    "def people_1():\n",
    "    for i in range(1, 6):\n",
    "        yield {\"ID\": i, \"Name\": f\"Person_{i}\", \"Age\": 25 + i, \"City\": \"City_A\"}\n",
    "\n",
    "def people_2():\n",
    "    for i in range(3, 9):\n",
    "        yield {\"ID\": i, \"Name\": f\"Person_{i}\", \"Age\": 30 + i, \"City\": \"City_B\", \"Occupation\": f\"Job_{i}\"}\n",
    "\n",
    "    \n",
    "people_all = []\n",
    "\n",
    "for person in people_1():\n",
    "    people_all.append(person)\n",
    "    \n",
    "for person in people_2():\n",
    "    people_all.append(person)\n",
    "    \n",
    "print(sum(person[\"Age\"] for person in people_all))"
   ]
  },
  {
   "cell_type": "code",
   "execution_count": 64,
   "id": "626ea590",
   "metadata": {},
   "outputs": [],
   "source": [
    "%%capture\n",
    "!pip install \"dlt[duckdb]\""
   ]
  },
  {
   "cell_type": "code",
   "execution_count": 95,
   "id": "d67fe125",
   "metadata": {
    "scrolled": true
   },
   "outputs": [
    {
     "name": "stdout",
     "output_type": "stream",
     "text": [
      "Pipeline people_pipeline load step completed in 0.31 seconds\n",
      "1 load package(s) were loaded to destination duckdb and into dataset people\n",
      "The duckdb destination used duckdb:////Users/natchanunyindeesuk/Documents/DE_Zoomcamp/data-engineering-zoomcamp/Workshop1/people_pipeline.duckdb location to store data\n",
      "Load package 1708180257.933951 is LOADED and contains no failed jobs\n"
     ]
    }
   ],
   "source": [
    "import dlt\n",
    "\n",
    "pipeline = dlt.pipeline(pipeline_name='people_pipeline',destination='duckdb',dataset_name='people')\n",
    "\n",
    "pipeline.run(people_1, \n",
    "                    table_name=\"people_data\", \n",
    "                    write_disposition=\"replace\",\n",
    "                    primary_key=\"ID\")\n",
    "pipeline.run(people_2, \n",
    "                    table_name=\"people_data\", \n",
    "                    write_disposition=\"merge\",\n",
    "                    primary_key=\"ID\")\n",
    "\n",
    "print(info)"
   ]
  },
  {
   "cell_type": "code",
   "execution_count": 98,
   "id": "c2be062b",
   "metadata": {},
   "outputs": [
    {
     "data": {
      "text/html": [
       "<div>\n",
       "<style scoped>\n",
       "    .dataframe tbody tr th:only-of-type {\n",
       "        vertical-align: middle;\n",
       "    }\n",
       "\n",
       "    .dataframe tbody tr th {\n",
       "        vertical-align: top;\n",
       "    }\n",
       "\n",
       "    .dataframe thead th {\n",
       "        text-align: right;\n",
       "    }\n",
       "</style>\n",
       "<table border=\"1\" class=\"dataframe\">\n",
       "  <thead>\n",
       "    <tr style=\"text-align: right;\">\n",
       "      <th></th>\n",
       "      <th>sum(age)</th>\n",
       "    </tr>\n",
       "  </thead>\n",
       "  <tbody>\n",
       "    <tr>\n",
       "      <th>0</th>\n",
       "      <td>266.0</td>\n",
       "    </tr>\n",
       "  </tbody>\n",
       "</table>\n",
       "</div>"
      ],
      "text/plain": [
       "   sum(age)\n",
       "0     266.0"
      ]
     },
     "metadata": {},
     "output_type": "display_data"
    }
   ],
   "source": [
    "#Question 4 = 266\n",
    "import duckdb\n",
    "\n",
    "conn = duckdb.connect('people_pipeline.duckdb')\n",
    "\n",
    "conn.sql(\"SET search_path ='people'\")\n",
    "\n",
    "people = conn.sql(\"SELECT SUM(age) FROM people_data\").df()\n",
    "display(people)"
   ]
  },
  {
   "cell_type": "code",
   "execution_count": null,
   "id": "fdfc42da",
   "metadata": {},
   "outputs": [],
   "source": []
  }
 ],
 "metadata": {
  "kernelspec": {
   "display_name": "Python 3 (ipykernel)",
   "language": "python",
   "name": "python3"
  },
  "language_info": {
   "codemirror_mode": {
    "name": "ipython",
    "version": 3
   },
   "file_extension": ".py",
   "mimetype": "text/x-python",
   "name": "python",
   "nbconvert_exporter": "python",
   "pygments_lexer": "ipython3",
   "version": "3.11.5"
  }
 },
 "nbformat": 4,
 "nbformat_minor": 5
}
